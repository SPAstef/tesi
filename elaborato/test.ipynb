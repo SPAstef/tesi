{
 "cells": [
  {
   "cell_type": "code",
   "execution_count": 51,
   "metadata": {},
   "outputs": [
    {
     "name": "stdout",
     "output_type": "stream",
     "text": [
      "The group G = <5>_30 = [1, 5, 25] has order 3\n",
      "The underlying field is F = [0, 1, 2]\n"
     ]
    }
   ],
   "source": [
    "import numpy as np\n",
    "\n",
    "from sympy import isprime\n",
    "\n",
    "g = 5\n",
    "P = 30\n",
    "\n",
    "G = sorted({pow(g, x, P) for x in range(P)})\n",
    "Q = len(G)\n",
    "F = sorted({x for x in range(len(G))})\n",
    "\n",
    "print(f\"The group G = <{g}>_{P} = {G} has order {Q}\")\n",
    "print(f\"The underlying field is F = {F}\")\n",
    "\n",
    "def comp_G(x, y):\n",
    "    return (x * y) % P\n",
    "\n",
    "def comp_F(x, y):\n",
    "    return (x + y) % Q\n",
    "\n",
    "def log_G(x):\n",
    "    for i in range(Q):\n",
    "        if pow(g, i, P) == x:\n",
    "            return i\n",
    "    return 0\n"
   ]
  },
  {
   "cell_type": "code",
   "execution_count": 52,
   "metadata": {},
   "outputs": [
    {
     "name": "stdout",
     "output_type": "stream",
     "text": [
      "[[0 1 2]\n",
      " [1 2 1]\n",
      " [2 1 2]]\n",
      "[[0 1 2]\n",
      " [1 2 0]\n",
      " [2 0 1]]\n",
      "False\n",
      "log(1 * 1) = 0, log(1) + log(1) = 0\n",
      "log(1 * 5) = 1, log(1) + log(5) = 1\n",
      "log(1 * 25) = 2, log(1) + log(25) = 2\n",
      "log(5 * 1) = 1, log(5) + log(1) = 1\n",
      "log(5 * 5) = 2, log(5) + log(5) = 2\n",
      "log(5 * 25) = 1, log(5) + log(25) = 0\n",
      "log(25 * 1) = 2, log(25) + log(1) = 2\n",
      "log(25 * 5) = 1, log(25) + log(5) = 0\n",
      "log(25 * 25) = 2, log(25) + log(25) = 1\n"
     ]
    }
   ],
   "source": [
    "\n",
    "post = np.array([[log_G(comp_G(x, y)) for y in G] for x in G])\n",
    "pre = np.array([[comp_F(log_G(x), log_G(y)) for y in G] for x in G])\n",
    "print(post)\n",
    "print(pre)\n",
    "print(np.all(post == pre))\n",
    "for x in G:\n",
    "    for y in G:\n",
    "        print(f\"log({x} * {y}) = {log_G(comp_G(x, y))}, log({x}) + log({y}) = {comp_F(log_G(x), log_G(y))}\")\n"
   ]
  }
 ],
 "metadata": {
  "kernelspec": {
   "display_name": "Python 3.10.4 64-bit",
   "language": "python",
   "name": "python3"
  },
  "language_info": {
   "codemirror_mode": {
    "name": "ipython",
    "version": 3
   },
   "file_extension": ".py",
   "mimetype": "text/x-python",
   "name": "python",
   "nbconvert_exporter": "python",
   "pygments_lexer": "ipython3",
   "version": "3.10.4"
  },
  "orig_nbformat": 4,
  "vscode": {
   "interpreter": {
    "hash": "a6bbff785f7dca992236909a4969e32f59102c4fceccb1043997c81bace8c71c"
   }
  }
 },
 "nbformat": 4,
 "nbformat_minor": 2
}
